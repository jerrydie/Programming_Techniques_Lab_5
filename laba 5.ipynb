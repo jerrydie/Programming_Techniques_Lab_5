{
 "cells": [
  {
   "cell_type": "markdown",
   "metadata": {},
   "source": [
    "# Лабораторная работа № 5\n",
    "## Щеглова П.Н. Вариант 4\n",
    "Используя паттерн Bridge, реализовать объект «множество», которое представляется различными структурами данных в зависимости от числа элементов. При этом «множество» должно уметь изменять внутреннюю структуру в зависимости от фактического количества объектов. Обязательно реализовать методы добавления, удаления и поиска объекта в множестве по значению."
   ]
  },
  {
   "cell_type": "code",
   "execution_count": 212,
   "metadata": {},
   "outputs": [],
   "source": [
    "from abc import ABC, abstractmethod\n",
    "# Implementor\n",
    "class operation:\n",
    "    # Обработчик операций\n",
    "    @abstractmethod\n",
    "    def add(obj, elem):\n",
    "        # Добавить элемент\n",
    "        # obj - объект в который добавить\n",
    "        # elem - добавляемый элемент\n",
    "        pass\n",
    "    @abstractmethod\n",
    "    def delete(obj, elem):\n",
    "        # Удалить элемент\n",
    "        # obj - объект из которого удалить\n",
    "        # elem - удаляемый элемент\n",
    "        pass\n",
    "    @abstractmethod\n",
    "    def find(obj, elem):\n",
    "        # Найти элемент\n",
    "        # obj - объект в котором искать\n",
    "        # elem - искомый элемент\n",
    "        pass\n",
    "\n",
    "    \n",
    "class operation_list1(operation):\n",
    "    # Конкретный обработчик операций для множества 1 типа\n",
    "    def add(obj, elem):\n",
    "        # Добавить элемент\n",
    "        # obj - объект в который добавить\n",
    "        # elem - добавляемый элемент\n",
    "        # возвр. - измененный obj\n",
    "        obj = set(obj)\n",
    "        obj.add(elem)\n",
    "        obj = frozenset(obj)\n",
    "        return obj\n",
    "    \n",
    "    def delete(obj, elem):\n",
    "        # Удалить элемент\n",
    "        # obj - объект из которого удалить\n",
    "        # elem - удаляемый элемент\n",
    "        # возвр. - измененный obj или -1, если элемент не найден\n",
    "        obj = set(obj)\n",
    "        try:\n",
    "            obj.remove(elem)\n",
    "            obj = frozenset(obj)\n",
    "            return obj\n",
    "        except:\n",
    "            return -1\n",
    "    \n",
    "    def find(obj, elem):\n",
    "        # Найти элемент\n",
    "        # obj - объект в котором искать\n",
    "        # elem - искомый элемент\n",
    "        # возвр. - found или not found, если элемент не найден\n",
    "        found = elem in obj\n",
    "        \n",
    "        if found:\n",
    "            return \"found\"\n",
    "        else:\n",
    "            return \"not found\"\n",
    "              \n",
    "        \n",
    "        \n",
    "class operation_list2(operation):\n",
    "    # Конкретный обработчик операций для множества 2 типа\n",
    "    def add(obj, elem):\n",
    "        # Добавить элемент\n",
    "        # obj - объект в который добавить\n",
    "        # elem - добавляемый элемент\n",
    "        # возвр. - измененный obj\n",
    "        obj.add(elem)\n",
    "        return obj\n",
    "    \n",
    "    def delete(obj, elem):\n",
    "        # Удалить элемент\n",
    "        # obj - объект из которого удалить\n",
    "        # elem - удаляемый элемент\n",
    "        # возвр. - измененный obj или -1, если элемент не найден\n",
    "        try:\n",
    "            obj.remove(elem)\n",
    "            return obj\n",
    "        except:\n",
    "            return -1\n",
    "    \n",
    "    def find(obj, elem):\n",
    "        # Найти элемент\n",
    "        # obj - объект в котором искать\n",
    "        # elem - искомый элемент\n",
    "        # возвр. - индекс элемента или -1, если элемент не найден\n",
    "        found = elem in obj\n",
    "        \n",
    "        if found:\n",
    "            return \"found\"\n",
    "        else:\n",
    "            return \"not found\"\n",
    "\n",
    "\n",
    "# Abstraction\n",
    "class abstract_Set:\n",
    "    def __init__(self, operation, elements, size):\n",
    "        # Инициализация\n",
    "        self.operation = operation\n",
    "        self.elements = elements\n",
    "        self.size = size\n",
    "    \n",
    "    def __str__(self):\n",
    "        # строковое представление\n",
    "        return str(self.elements)\n",
    "    \n",
    "    @abstractmethod\n",
    "    def add(self, elem):\n",
    "        # Добавить элемент elem\n",
    "        pass\n",
    "    \n",
    "    @abstractmethod\n",
    "    def delete(self, elem):\n",
    "        # Удалить элемент elem\n",
    "        pass\n",
    "    \n",
    "    def find(self, elem):\n",
    "        # Найти элемент elem\n",
    "        # возвр. - индекс искомого элемента\n",
    "        return self.operation.find(self.elements, elem)\n",
    "    \n",
    "# Refined Abstraction\n",
    "class frozenSet(abstract_Set):\n",
    "    def __init__(self, operation = operation_list1, elements = frozenset(), size = 0):\n",
    "        # Инициализация\n",
    "        self.operation = operation\n",
    "        self.elements = elements\n",
    "        self.size = size\n",
    "        \n",
    "    def add(self, elem):\n",
    "        # Добавить элемент elem\n",
    "        if self.size >= 10:\n",
    "            # Обработка случая изменения внутренней структуры\n",
    "            self.elements = self.operation.add(self.elements, elem)\n",
    "            self.size += 1\n",
    "            return Set(operation_list2, set(self.elements), self.size)\n",
    "                \n",
    "        else:\n",
    "            # Добавление элемента\n",
    "            self.elements = self.operation.add(self.elements, elem)\n",
    "            self.size += 1\n",
    "            return self\n",
    "            \n",
    "    def delete(self, elem):\n",
    "        # Удалить элемент elem\n",
    "        result = self.operation.delete(self.elements, elem) # Удаление элемента\n",
    "        if result != -1: # Если удаление успешное, уменьшаем количество элементов\n",
    "            self.elements = result\n",
    "            self.size -= 1\n",
    "        return self\n",
    "    \n",
    "class Set(abstract_Set):\n",
    "    def __init__(self, operation = operation_list2, elements = set(), size = 0):\n",
    "        # Инициализация\n",
    "        self.operation = operation\n",
    "        self.elements = elements\n",
    "        self.size = size\n",
    "        \n",
    "    def add(self, elem):\n",
    "        # Добавить элемент elem\n",
    "        self.elements = self.operation.add(self.elements, elem)\n",
    "        self.size += 1\n",
    "        return self\n",
    "            \n",
    "    def delete(self, elem):\n",
    "        # Удалить элемент elem\n",
    "        result = self.operation.delete(self.elements, elem) # Удаление элемента\n",
    "        if result != -1: # Если удаление успешное, уменьшаем количество элементов\n",
    "            self.size -= 1\n",
    "        if self.size <= 10:\n",
    "            # Обработка случая изменения внутренней структуры\n",
    "            return frozenSet(operation_list1, frozenset(self.elements), self.size)\n",
    "        return self"
   ]
  },
  {
   "cell_type": "code",
   "execution_count": 213,
   "metadata": {},
   "outputs": [
    {
     "name": "stdout",
     "output_type": "stream",
     "text": [
      "frozenset({0})\n",
      "frozenset({0, 1})\n",
      "frozenset({0, 1, 2})\n",
      "frozenset({0, 1, 2, 3})\n",
      "frozenset({0, 1, 2, 3, 4})\n",
      "frozenset({0, 1, 2, 3, 4, 5})\n",
      "frozenset({0, 1, 2, 3, 4, 5, 6})\n",
      "frozenset({0, 1, 2, 3, 4, 5, 6, 7})\n",
      "frozenset({0, 1, 2, 3, 4, 5, 6, 7, 8})\n",
      "frozenset({0, 1, 2, 3, 4, 5, 6, 7, 8, 9})\n"
     ]
    }
   ],
   "source": [
    "s = frozenSet()\n",
    "for i in range(10):\n",
    "    s = s.add(i)\n",
    "    print(s)"
   ]
  },
  {
   "cell_type": "code",
   "execution_count": 214,
   "metadata": {},
   "outputs": [
    {
     "name": "stdout",
     "output_type": "stream",
     "text": [
      "0 - found\n",
      "3 - found\n",
      "6 - found\n",
      "9 - found\n",
      "12 - not found\n"
     ]
    }
   ],
   "source": [
    "for i in range(0, 15, 3):\n",
    "    print(i, '-', s.find(i))"
   ]
  },
  {
   "cell_type": "code",
   "execution_count": 215,
   "metadata": {},
   "outputs": [
    {
     "name": "stdout",
     "output_type": "stream",
     "text": [
      "{0, 1, 2, 3, 4, 5, 6, 7, 8, 9, 10}\n",
      "{0, 1, 2, 3, 4, 5, 6, 7, 8, 9, 10, 11}\n",
      "{0, 1, 2, 3, 4, 5, 6, 7, 8, 9, 10, 11, 12}\n",
      "{0, 1, 2, 3, 4, 5, 6, 7, 8, 9, 10, 11, 12, 13}\n",
      "{0, 1, 2, 3, 4, 5, 6, 7, 8, 9, 10, 11, 12, 13, 14}\n",
      "{0, 1, 2, 3, 4, 5, 6, 7, 8, 9, 10, 11, 12, 13, 14, 15}\n",
      "{0, 1, 2, 3, 4, 5, 6, 7, 8, 9, 10, 11, 12, 13, 14, 15, 16}\n",
      "{0, 1, 2, 3, 4, 5, 6, 7, 8, 9, 10, 11, 12, 13, 14, 15, 16, 17}\n",
      "{0, 1, 2, 3, 4, 5, 6, 7, 8, 9, 10, 11, 12, 13, 14, 15, 16, 17, 18}\n",
      "{0, 1, 2, 3, 4, 5, 6, 7, 8, 9, 10, 11, 12, 13, 14, 15, 16, 17, 18, 19}\n"
     ]
    }
   ],
   "source": [
    "for i in range(10, 20):\n",
    "    s = s.add(i)\n",
    "    print(s)"
   ]
  },
  {
   "cell_type": "code",
   "execution_count": 216,
   "metadata": {},
   "outputs": [
    {
     "name": "stdout",
     "output_type": "stream",
     "text": [
      "0 - found\n",
      "3 - found\n",
      "6 - found\n",
      "9 - found\n",
      "12 - found\n",
      "15 - found\n",
      "18 - found\n",
      "21 - not found\n",
      "24 - not found\n"
     ]
    }
   ],
   "source": [
    "for i in range(0, 25, 3):\n",
    "    print(i, '-', s.find(i))"
   ]
  },
  {
   "cell_type": "code",
   "execution_count": 217,
   "metadata": {},
   "outputs": [
    {
     "name": "stdout",
     "output_type": "stream",
     "text": [
      "{1, 2, 3, 4, 5, 6, 7, 8, 9, 10, 11, 12, 13, 14, 15, 16, 17, 18, 19}\n",
      "{2, 3, 4, 5, 6, 7, 8, 9, 10, 11, 12, 13, 14, 15, 16, 17, 18, 19}\n",
      "{3, 4, 5, 6, 7, 8, 9, 10, 11, 12, 13, 14, 15, 16, 17, 18, 19}\n",
      "{4, 5, 6, 7, 8, 9, 10, 11, 12, 13, 14, 15, 16, 17, 18, 19}\n",
      "{5, 6, 7, 8, 9, 10, 11, 12, 13, 14, 15, 16, 17, 18, 19}\n",
      "{6, 7, 8, 9, 10, 11, 12, 13, 14, 15, 16, 17, 18, 19}\n",
      "{7, 8, 9, 10, 11, 12, 13, 14, 15, 16, 17, 18, 19}\n",
      "{8, 9, 10, 11, 12, 13, 14, 15, 16, 17, 18, 19}\n",
      "{9, 10, 11, 12, 13, 14, 15, 16, 17, 18, 19}\n",
      "frozenset({10, 11, 12, 13, 14, 15, 16, 17, 18, 19})\n"
     ]
    }
   ],
   "source": [
    "for i in range(0, 10):\n",
    "    s = s.delete(i)\n",
    "    print(s)"
   ]
  },
  {
   "cell_type": "code",
   "execution_count": 218,
   "metadata": {},
   "outputs": [
    {
     "name": "stdout",
     "output_type": "stream",
     "text": [
      "frozenset({11, 12, 13, 14, 15, 16, 17, 18, 19})\n",
      "frozenset({12, 13, 14, 15, 16, 17, 18, 19})\n",
      "frozenset({16, 17, 18, 19, 13, 14, 15})\n",
      "frozenset({16, 17, 18, 19, 14, 15})\n",
      "frozenset({16, 17, 18, 19, 15})\n",
      "frozenset({16, 17, 18, 19})\n",
      "frozenset({17, 18, 19})\n",
      "frozenset({18, 19})\n",
      "frozenset({19})\n",
      "frozenset()\n"
     ]
    }
   ],
   "source": [
    "for i in range(10, 20):\n",
    "    s = s.delete(i)\n",
    "    print(s)"
   ]
  },
  {
   "cell_type": "code",
   "execution_count": null,
   "metadata": {},
   "outputs": [],
   "source": []
  }
 ],
 "metadata": {
  "kernelspec": {
   "display_name": "Python 3",
   "language": "python",
   "name": "python3"
  },
  "language_info": {
   "codemirror_mode": {
    "name": "ipython",
    "version": 3
   },
   "file_extension": ".py",
   "mimetype": "text/x-python",
   "name": "python",
   "nbconvert_exporter": "python",
   "pygments_lexer": "ipython3",
   "version": "3.7.3"
  }
 },
 "nbformat": 4,
 "nbformat_minor": 2
}
